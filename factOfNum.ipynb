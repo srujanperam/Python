{
  "nbformat": 4,
  "nbformat_minor": 0,
  "metadata": {
    "colab": {
      "name": "Untitled2.ipynb",
      "version": "0.3.2",
      "provenance": [],
      "include_colab_link": true
    },
    "kernelspec": {
      "name": "python3",
      "display_name": "Python 3"
    }
  },
  "cells": [
    {
      "cell_type": "markdown",
      "metadata": {
        "id": "view-in-github",
        "colab_type": "text"
      },
      "source": [
        "[View in Colaboratory](https://colab.research.google.com/github/srujanperam/first-repo/blob/master/factOfNum.ipynb)"
      ]
    },
    {
      "metadata": {
        "id": "oYD0dGgWT93p",
        "colab_type": "code",
        "colab": {
          "base_uri": "https://localhost:8080/",
          "height": 51
        },
        "outputId": "c3f8b8b4-436e-49c2-a1f7-4a9b47697229"
      },
      "cell_type": "code",
      "source": [
        "#Give n for factorial\n",
        "num=int(input(\"Give your number \"))\n",
        "k=1\n",
        "i=2\n",
        "while i<=num:\n",
        "  k=k*i\n",
        "  i=i+1\n",
        "print(\"Factorial of the number is\",k)"
      ],
      "execution_count": 2,
      "outputs": [
        {
          "output_type": "stream",
          "text": [
            "Give your number 5\n",
            "Factorial of the number is 120\n"
          ],
          "name": "stdout"
        }
      ]
    }
  ]
}