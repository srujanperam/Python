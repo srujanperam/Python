{
  "nbformat": 4,
  "nbformat_minor": 0,
  "metadata": {
    "colab": {
      "name": "Untitled9.ipynb",
      "version": "0.3.2",
      "provenance": [],
      "collapsed_sections": [],
      "include_colab_link": true
    },
    "kernelspec": {
      "name": "python3",
      "display_name": "Python 3"
    }
  },
  "cells": [
    {
      "cell_type": "markdown",
      "metadata": {
        "id": "view-in-github",
        "colab_type": "text"
      },
      "source": [
        "[View in Colaboratory](https://colab.research.google.com/github/srujanperam/first-repo/blob/master/nnoofprime.ipynb)"
      ]
    },
    {
      "metadata": {
        "id": "SCIw10N3IvPE",
        "colab_type": "text"
      },
      "cell_type": "markdown",
      "source": [
        "Printing prime numbers between 1 to n.\n",
        "Here I have used an algorithm called **sieve of eratosthenes**. The program written in python language"
      ]
    },
    {
      "metadata": {
        "id": "2b0EQAeE3Gep",
        "colab_type": "code",
        "colab": {
          "base_uri": "https://localhost:8080/",
          "height": 51
        },
        "outputId": "950e0910-b4da-4955-cd6b-34421286eab5"
      },
      "cell_type": "code",
      "source": [
        "num=int(input(\"give number to print prime numbers 0:\"))\n",
        "pl=[]\n",
        "for i in range(num+1):\n",
        "  pl.append(1)\n",
        "\n",
        "for i in range(2,num+1):\n",
        "  if i*i<=num:\n",
        "    j=i\n",
        "    if pl[i]==1:\n",
        "      j=j+i\n",
        "      while j<=num:\n",
        "        pl[j]=0\n",
        "        j=j+i\n",
        "for i in range(2,num+1):\n",
        "  if pl[i]!=0:\n",
        "    print(i,end=\" \")"
      ],
      "execution_count": 0,
      "outputs": [
        {
          "output_type": "stream",
          "text": [
            "give number to print prime numbers 0:100\n",
            "2 3 5 7 11 13 17 19 23 29 31 37 41 43 47 53 59 61 67 71 73 79 83 89 97 "
          ],
          "name": "stdout"
        }
      ]
    }
  ]
}