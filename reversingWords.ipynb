{
  "nbformat": 4,
  "nbformat_minor": 0,
  "metadata": {
    "colab": {
      "name": "Untitled0.ipynb",
      "version": "0.3.2",
      "provenance": [],
      "include_colab_link": true
    },
    "kernelspec": {
      "name": "python3",
      "display_name": "Python 3"
    }
  },
  "cells": [
    {
      "cell_type": "markdown",
      "metadata": {
        "id": "view-in-github",
        "colab_type": "text"
      },
      "source": [
        "[View in Colaboratory](https://colab.research.google.com/github/srujanperam/first-repo/blob/master/reversingWords.ipynb)"
      ]
    },
    {
      "metadata": {
        "id": "DSP6V5Hw5ede",
        "colab_type": "code",
        "colab": {}
      },
      "cell_type": "code",
      "source": [
        "#Python program to reverse words from the given user sentence "
      ],
      "execution_count": 0,
      "outputs": []
    },
    {
      "metadata": {
        "id": "C8536MPJ3qNl",
        "colab_type": "code",
        "colab": {
          "base_uri": "https://localhost:8080/",
          "height": 51
        },
        "outputId": "9e852402-631e-4355-eae3-659f000518f4"
      },
      "cell_type": "code",
      "source": [
        "fullName=input(\"Enter your full name \")\n",
        "sepName=fullName.split(\" \")\n",
        "tosepstring=\"\"\n",
        "#print(sepName[1],\" \",sepName[0])\n",
        "for i in range(len(sepName)-1,-1,-1):\n",
        "    tosepstring=tosepstring+\" \"+sepName[i]\n",
        "print(tosepstring)"
      ],
      "execution_count": 1,
      "outputs": [
        {
          "output_type": "stream",
          "text": [
            "Enter your full name Hello World Welcome\n",
            " Welcome World Hello\n"
          ],
          "name": "stdout"
        }
      ]
    }
  ]
}