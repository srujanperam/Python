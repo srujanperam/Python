{
  "nbformat": 4,
  "nbformat_minor": 0,
  "metadata": {
    "colab": {
      "name": "Untitled1.ipynb",
      "version": "0.3.2",
      "provenance": [],
      "include_colab_link": true
    },
    "kernelspec": {
      "name": "python3",
      "display_name": "Python 3"
    }
  },
  "cells": [
    {
      "cell_type": "markdown",
      "metadata": {
        "id": "view-in-github",
        "colab_type": "text"
      },
      "source": [
        "[View in Colaboratory](https://colab.research.google.com/github/srujanperam/first-repo/blob/master/splitingnumbers.ipynb)"
      ]
    },
    {
      "metadata": {
        "id": "nTn7h4hVCxv2",
        "colab_type": "code",
        "colab": {}
      },
      "cell_type": "code",
      "source": [
        "#spliting sequence of numbers into seperate numbers"
      ],
      "execution_count": 0,
      "outputs": []
    },
    {
      "metadata": {
        "id": "L0MgC-pwA6ip",
        "colab_type": "code",
        "colab": {
          "base_uri": "https://localhost:8080/",
          "height": 68
        },
        "outputId": "51c3d897-ce36-4f34-d17d-f0e9d995cef1"
      },
      "cell_type": "code",
      "source": [
        "demo=input(\"Give a sequence of integers \")\n",
        "a=demo.split(\",\")\n",
        "print(a)\n",
        "b=[]\n",
        "for i in a:\n",
        "  b.append(int(i))\n",
        "print(b)"
      ],
      "execution_count": 1,
      "outputs": [
        {
          "output_type": "stream",
          "text": [
            "Give a sequence of integers 1,2,3,4,5,6\n",
            "['1', '2', '3', '4', '5', '6']\n",
            "[1, 2, 3, 4, 5, 6]\n"
          ],
          "name": "stdout"
        }
      ]
    },
    {
      "metadata": {
        "id": "pMJ7vAzdEXqR",
        "colab_type": "code",
        "colab": {}
      },
      "cell_type": "code",
      "source": [
        ""
      ],
      "execution_count": 0,
      "outputs": []
    }
  ]
}