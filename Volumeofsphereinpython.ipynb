{
  "nbformat": 4,
  "nbformat_minor": 0,
  "metadata": {
    "colab": {
      "name": "Untitled1.ipynb",
      "version": "0.3.2",
      "provenance": [],
      "include_colab_link": true
    },
    "kernelspec": {
      "name": "python3",
      "display_name": "Python 3"
    }
  },
  "cells": [
    {
      "cell_type": "markdown",
      "metadata": {
        "id": "view-in-github",
        "colab_type": "text"
      },
      "source": [
        "[View in Colaboratory](https://colab.research.google.com/github/srujanperam/first-repo/blob/master/Volumeofsphereinpython.ipynb)"
      ]
    },
    {
      "metadata": {
        "id": "nTn7h4hVCxv2",
        "colab_type": "code",
        "colab": {}
      },
      "cell_type": "code",
      "source": [
        "#Volume of sphere in python"
      ],
      "execution_count": 0,
      "outputs": []
    },
    {
      "metadata": {
        "id": "L0MgC-pwA6ip",
        "colab_type": "code",
        "colab": {
          "base_uri": "https://localhost:8080/",
          "height": 51
        },
        "outputId": "f08e64f2-32ba-4669-faa0-6ecd6cbd7a21"
      },
      "cell_type": "code",
      "source": [
        "import math\n",
        "radius=int(input(\"give the radius of sphere \"))\n",
        "v=(4/3)*math.pi*(radius**3)\n",
        "print(\"Volume of the sphere is \",v)"
      ],
      "execution_count": 0,
      "outputs": [
        {
          "output_type": "stream",
          "text": [
            "give the radius of sphere 5\n",
            "Volume of the sphere is  523.5987755982989\n"
          ],
          "name": "stdout"
        }
      ]
    }
  ]
}