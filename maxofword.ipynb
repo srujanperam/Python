{
  "nbformat": 4,
  "nbformat_minor": 0,
  "metadata": {
    "colab": {
      "name": "Untitled1.ipynb",
      "version": "0.3.2",
      "provenance": [],
      "include_colab_link": true
    },
    "kernelspec": {
      "name": "python3",
      "display_name": "Python 3"
    }
  },
  "cells": [
    {
      "cell_type": "markdown",
      "metadata": {
        "id": "view-in-github",
        "colab_type": "text"
      },
      "source": [
        "[View in Colaboratory](https://colab.research.google.com/github/srujanperam/first-repo/blob/master/maxofword.ipynb)"
      ]
    },
    {
      "metadata": {
        "id": "nTn7h4hVCxv2",
        "colab_type": "code",
        "colab": {}
      },
      "cell_type": "code",
      "source": [
        "#Find the maximum length of word/words"
      ],
      "execution_count": 0,
      "outputs": []
    },
    {
      "metadata": {
        "id": "L0MgC-pwA6ip",
        "colab_type": "code",
        "colab": {
          "base_uri": "https://localhost:8080/",
          "height": 68
        },
        "outputId": "e521071d-aac3-47cf-f4ef-305192de8ced"
      },
      "cell_type": "code",
      "source": [
        "word=input(\"Give words \")\n",
        "splitWord=word.split(\",\")\n",
        "max=len(splitWord[0])\n",
        "for i in range(1,len(splitWord)):\n",
        "  if(max<len(splitWord[i])):\n",
        "    max=len(splitWord[i])\n",
        "for i in range(len(splitWord)):\n",
        "  if max==len(splitWord[i]):\n",
        "    print(splitWord[i])\n"
      ],
      "execution_count": 17,
      "outputs": [
        {
          "output_type": "stream",
          "text": [
            "Give words apple,mango,pineapple,jackfruit\n",
            "pineapple\n",
            "jackfruit\n"
          ],
          "name": "stdout"
        }
      ]
    }
  ]
}